{
 "cells": [
  {
   "cell_type": "markdown",
   "metadata": {},
   "source": [
    "#### Matplotlib"
   ]
  },
  {
   "cell_type": "code",
   "execution_count": null,
   "metadata": {},
   "outputs": [],
   "source": [
    "#!pip install matplotlib\n",
    "import matplotlib"
   ]
  },
  {
   "cell_type": "code",
   "execution_count": null,
   "metadata": {},
   "outputs": [],
   "source": [
    "#ploting 1 dimension\n",
    "import matplotlib.pyplot as plt\n",
    "\n",
    "datas = [1,2,4,9,5,3]\n",
    "plt.plot(datas)\n",
    "plt.show()"
   ]
  },
  {
   "cell_type": "code",
   "execution_count": null,
   "metadata": {},
   "outputs": [],
   "source": [
    "datas_y = [-3,-2,5,0]\n",
    "datas_x = [1,6,4,3]\n",
    "plt.plot(datas_x,datas_y)\n",
    "plt.show()"
   ]
  },
  {
   "cell_type": "code",
   "execution_count": null,
   "metadata": {},
   "outputs": [],
   "source": [
    "import numpy as np\n",
    "\n",
    "x = np.linspace(-5,5,700)\n",
    "plt.plot(x)\n",
    "plt.show()"
   ]
  },
  {
   "cell_type": "code",
   "execution_count": null,
   "metadata": {},
   "outputs": [],
   "source": [
    "import numpy as np\n",
    "\n",
    "x = np.linspace(-5,5,700)\n",
    "y = x**2\n",
    "plt.plot(x,y)\n",
    "plt.show()"
   ]
  },
  {
   "cell_type": "code",
   "execution_count": null,
   "metadata": {},
   "outputs": [],
   "source": [
    "plt.plot(x,y)\n",
    "plt.title(\"Square function\")\n",
    "plt.ylabel(\"Y\")\n",
    "plt.xlabel(\"X\")\n",
    "plt.grid(True)\n",
    "plt.show()"
   ]
  },
  {
   "cell_type": "code",
   "execution_count": null,
   "metadata": {},
   "outputs": [],
   "source": [
    "plt.plot([0, 100, 100, 0, 0, 100, 50, 0, 100], [0, 0, 100, 100, 0, 100, 130, 100, 0])\n",
    "plt.axis([-10, 110, -20, 140]) #min max axis and min max y axis\n",
    "plt.show()"
   ]
  },
  {
   "cell_type": "code",
   "execution_count": null,
   "metadata": {},
   "outputs": [],
   "source": [
    "#import matplotlib.colors\n",
    "plt.plot([0, 100, 100, 0, 0, 100, 50, 0, 100],\n",
    "[0, 0, 100, 100, 0, 100, 130, 100, 0],\"b--\")\n",
    "plt.axis([-10, 110, -20, 140]) #min max axis and min max y axis\n",
    "plt.show()"
   ]
  },
  {
   "cell_type": "code",
   "execution_count": null,
   "metadata": {},
   "outputs": [],
   "source": [
    "datas_x_1 = [0, 100, 100, 0, 0]\n",
    "datas_y_1 = [0, 0, 100, 100, 0]\n",
    "\n",
    "datas_x_2 = [0, 100, 50, 0, 100]\n",
    "datas_y_2 = [0, 100, 130, 100, 0]\n",
    "\n",
    "plt.plot(datas_x_1,datas_y_1,\"r-\",datas_x_2,datas_y_2,\"g--\")\n",
    "plt.axis([-10, 110, -20, 140]) #min max axis and min max y axis\n",
    "plt.show()"
   ]
  },
  {
   "cell_type": "code",
   "execution_count": null,
   "metadata": {},
   "outputs": [],
   "source": [
    "plt.plot(datas_x_1,datas_y_1,\"r-\")\n",
    "plt.plot(datas_x_2,datas_y_2,\"g--\")\n",
    "plt.axis([-10, 110, -20, 140]) #min max axis and min max y axis\n",
    "plt.show()"
   ]
  },
  {
   "cell_type": "code",
   "execution_count": null,
   "metadata": {},
   "outputs": [],
   "source": [
    "x= np.linspace(-1.4,1.4,30)\n",
    "plt.plot(x,x,'g--',x,x**2,'r:',x,x**3,'b^')\n",
    "plt.show()"
   ]
  },
  {
   "cell_type": "code",
   "execution_count": null,
   "metadata": {},
   "outputs": [],
   "source": [
    "x= np.linspace(-1.4,1.4,30)\n",
    "line1 , line2 ,line3 = plt.plot(x,x,'g--',x,x**2,'r:',x,x**3,'b^')\n",
    "line1.set_linewidth(3.0)\n",
    "line1.set_dash_capstyle(\"round\")\n",
    "line3.set_alpha(0.2)\n",
    "plt.title(\"my first plot \")\n",
    "plt.xlabel(\"X axis\")\n",
    "plt.ylabel(\"Y axis\")\n",
    "plt.grid(True)\n",
    "plt.savefig(\"export/my_first_plot.png\")\n",
    "plt.show()\n",
    "\n",
    "#title : my first plot \n",
    "# x axis , y axis title \n",
    "# grid"
   ]
  },
  {
   "cell_type": "markdown",
   "metadata": {},
   "source": [
    "subplot"
   ]
  },
  {
   "cell_type": "code",
   "execution_count": null,
   "metadata": {},
   "outputs": [],
   "source": [
    "x = np.linspace(-1.4,1.4,30)\n",
    "\n",
    "plt.subplot(2,2,1)\n",
    "plt.plot(x,x)\n",
    "\n",
    "plt.subplot(2,2,2)\n",
    "plt.plot(x,x**2)\n",
    "\n",
    "plt.subplot(2,2,3)\n",
    "plt.plot(x,x**3)\n",
    "\n",
    "plt.subplot(2,2,4)\n",
    "plt.plot(x,x**4)\n",
    "plt.show()"
   ]
  },
  {
   "cell_type": "code",
   "execution_count": null,
   "metadata": {},
   "outputs": [],
   "source": [
    "#subplot 3*2 = 6 \n",
    "\n",
    "x = np.linspace(-1.4,1.4,30)\n",
    "\n",
    "plt.subplot(2,3,1)\n",
    "plt.plot(x,x)\n",
    "\n",
    "plt.subplot(2,3,2)\n",
    "plt.plot(x,x**2)\n",
    "\n",
    "plt.subplot(2,3,3)\n",
    "plt.plot(x,x**3)\n",
    "\n",
    "plt.subplot(2,3,4)\n",
    "plt.plot(x,x**4)\n",
    "\n",
    "plt.subplot(2,3,5)\n",
    "plt.plot(x,x**5)\n",
    "\n",
    "plt.subplot(2,3,6) #y ,x , position\n",
    "plt.plot(x,x**6)\n",
    "plt.show()"
   ]
  },
  {
   "cell_type": "code",
   "execution_count": null,
   "metadata": {},
   "outputs": [],
   "source": [
    "plt.subplot(2,2,1)\n",
    "plt.plot(x,x)\n",
    "\n",
    "plt.subplot(2,2,2)\n",
    "plt.plot(x,x**2)\n",
    "\n",
    "plt.subplot(2,1,2)\n",
    "plt.plot(x,x**3)\n",
    "plt.show()"
   ]
  },
  {
   "cell_type": "markdown",
   "metadata": {},
   "source": [
    "Drawing text"
   ]
  },
  {
   "cell_type": "code",
   "execution_count": null,
   "metadata": {},
   "outputs": [],
   "source": [
    "x = np.linspace(-1.5,1.5,30)\n",
    "\n",
    "px = 0.8\n",
    "py = px**2\n",
    "\n",
    "plt.plot(x,x**2,\"b-\",px,py,\"ro\")\n",
    "plt.text(0,1.5,\"Squre function\\n $y=x^2$\",fontsize=20,color=\"green\",\n",
    "horizontalalignment=\"center\")\n",
    "plt.text(px-0.05,py,\"Bestest point\",ha=\"right\" ,weight=\"heavy\")\n",
    "plt.text(px,py,f\"x= {px}\\n y= {round(py,2)}\",rotation=30,color=\"gray\")\n",
    "plt.savefig(\"export/my_squre_function.png\")\n",
    "plt.show()"
   ]
  },
  {
   "cell_type": "code",
   "execution_count": null,
   "metadata": {},
   "outputs": [],
   "source": [
    "plt.plot(x,x**2,px,py,\"ro\")\n",
    "plt.annotate(f\"Bestest point\\nx={px}\\ny={round(py,2)}\",xy=(px,py),\n",
    "xytext=(px-1.3,py+0.3),arrowprops={\"facecolor\":\"lightgreen\"},\n",
    "fontsize=14,weight=\"heavy\")\n",
    "plt.show()"
   ]
  },
  {
   "cell_type": "markdown",
   "metadata": {},
   "source": [
    "Legends"
   ]
  },
  {
   "cell_type": "code",
   "execution_count": null,
   "metadata": {},
   "outputs": [],
   "source": [
    "x = np.linspace(-1.4,1.4,50)\n",
    "plt.plot(x,x**2,\"r--\",label=\"Squre function\")\n",
    "plt.plot(x,x**3,\"g-\",label=\"Cube function\")\n",
    "plt.legend()\n",
    "plt.show()"
   ]
  },
  {
   "cell_type": "markdown",
   "metadata": {},
   "source": [
    "#### Scatter plot"
   ]
  },
  {
   "cell_type": "code",
   "execution_count": null,
   "metadata": {},
   "outputs": [],
   "source": [
    "from numpy.random import rand\n",
    "x,y =rand(2,100)\n",
    "plt.scatter(x,y)\n",
    "plt.show()"
   ]
  },
  {
   "cell_type": "code",
   "execution_count": null,
   "metadata": {},
   "outputs": [],
   "source": [
    "x,y,scale = rand(3,100)\n",
    "scale = 500*scale**5\n",
    "plt.scatter(x,y,s=scale)\n",
    "plt.show()"
   ]
  },
  {
   "cell_type": "code",
   "execution_count": null,
   "metadata": {},
   "outputs": [],
   "source": [
    "for color in [\"red\",\"green\",\"blue\"]:\n",
    "    n=100\n",
    "    x,y = rand(2,n)\n",
    "    scale = 500*rand(n)**5\n",
    "    plt.scatter(x,y,s=scale,c=color,alpha=0.3,edgecolors=\"blue\")"
   ]
  },
  {
   "cell_type": "code",
   "execution_count": null,
   "metadata": {},
   "outputs": [],
   "source": [
    "from numpy.random import randn\n",
    "#y =mx+c\n",
    "def plot_line(axis,slope,intercept,**kargs):\n",
    "    xmin , xmax = axis.get_xlim()\n",
    "    plt.plot([xmin,xmax],[xmin*slope+intercept , xmax*slope+intercept],**kargs)\n",
    "\n",
    "x = randn(1000)\n",
    "y = 0.5*x + 5 + randn(1000)*2\n",
    "plt.axis([-2.5,2.5,-5,15])\n",
    "plt.scatter(x,y,alpha=0.2)\n",
    "plot_line(axis=plt.gca(),slope=0.5,intercept=5,color=\"magenta\")\n",
    "plt.show()"
   ]
  },
  {
   "cell_type": "markdown",
   "metadata": {},
   "source": [
    "Histogram"
   ]
  },
  {
   "cell_type": "code",
   "execution_count": null,
   "metadata": {},
   "outputs": [],
   "source": [
    "datas = [1,1.1,1.8,2,2.1,3.2,3,3,3]\n",
    "plt.hist(datas)\n",
    "plt.show()"
   ]
  },
  {
   "cell_type": "code",
   "execution_count": null,
   "metadata": {},
   "outputs": [],
   "source": [
    "datas = [1,1.1,1.8,2,2.1,3.2,3,3,3]\n",
    "plt.hist(datas,bins=[1,1.5,2,2.5,3],rwidth=0.98)\n",
    "plt.show()"
   ]
  },
  {
   "cell_type": "code",
   "execution_count": null,
   "metadata": {},
   "outputs": [],
   "source": [
    "datas = [1,1.1,1.8,2,2.1,3.2,3,3,3]\n",
    "plt.hist(datas,bins=4,rwidth=0.98) #bin = (max-min)/batch\n",
    "plt.show()"
   ]
  },
  {
   "cell_type": "code",
   "execution_count": null,
   "metadata": {},
   "outputs": [],
   "source": [
    "data1 = np.random.randn(400)\n",
    "data2 = np.random.randn(500) + 3\n",
    "data3 = np.random.randn(450) + 6 \n",
    "data4a = np.random.randn(200) + 9\n",
    "data4b = np.random.randn(100) + 10\n",
    "\n",
    "plt.hist(data1,bins=5,color='g',alpha=0.75,label=\"barhist\")\n",
    "plt.hist(data2,bins=5,color='b',alpha=0.65,label=\"stepfilled hist\",histtype=\"stepfilled\")\n",
    "plt.hist(data3,color= 'r', histtype=\"step\",label=\"step\")\n",
    "plt.hist((data4a,data4b), \n",
    "            color=('r','m'),alpha=0.55,\n",
    "            histtype=\"barstacked\",\n",
    "            label=(\"barstacked a\",\"barstacked b\")\n",
    ")\n",
    "\n",
    "plt.xlabel(\"Value\")\n",
    "plt.ylabel(\"Frequency\")\n",
    "plt.legend()\n",
    "plt.grid(True)\n",
    "plt.show()"
   ]
  },
  {
   "cell_type": "markdown",
   "metadata": {},
   "source": [
    "#### Bar chart"
   ]
  },
  {
   "cell_type": "code",
   "execution_count": null,
   "metadata": {},
   "outputs": [],
   "source": [
    "datas = {'C':20,'C++':15,'Java':30,'python':35}\n",
    "\n",
    "courses = list(datas.keys())\n",
    "values = list(datas.values())\n",
    "\n",
    "print(courses)\n",
    "print(values)\n",
    "fig = plt.figure(figsize = (10,5)) # figure size\n",
    "\n",
    "plt.bar(courses,values,color='maroon',width=0.4)\n",
    "plt.xlabel(\"Courses offered\")\n",
    "plt.ylabel(\"No. of students enrolled\")\n",
    "plt.title(\"Student enrolled in different courses\")\n",
    "plt.show()\n"
   ]
  },
  {
   "cell_type": "code",
   "execution_count": null,
   "metadata": {},
   "outputs": [],
   "source": [
    "bar_width = 0.25\n",
    "#Y\n",
    "IT = [12, 30, 1, 8, 22]\n",
    "ECE = [28, 6, 16, 5, 10]\n",
    "CSE = [29, 3, 24, 25, 17]\n",
    " \n",
    "# Set position of bar on X axis\n",
    "br1 = np.arange(len(IT))\n",
    "br2 = [x + bar_width for x in br1]\n",
    "br3 = [x + bar_width for x in br2]\n",
    "\n",
    "plt.bar(br1,IT,color='r',width=bar_width,label=\"IT\")\n",
    "plt.bar(br2,ECE,color='g',width=bar_width,label=\"ECE\")\n",
    "plt.bar(br3,CSE,color='b',width=bar_width,label=\"CSE\")\n",
    "plt.legend(loc='best')"
   ]
  },
  {
   "cell_type": "code",
   "execution_count": null,
   "metadata": {},
   "outputs": [],
   "source": [
    "### stacked bar chart\n",
    "x = [\"A\",\"B\",\"C\",\"D\"]\n",
    "y1 = [10,20,10,30]\n",
    "y2 = [20,25,15,25]\n",
    "\n",
    "plt.bar(x,y1,color='r')\n",
    "plt.bar(x,y2,color='b',bottom=y1)\n",
    "plt.show()"
   ]
  },
  {
   "cell_type": "markdown",
   "metadata": {},
   "source": [
    "Example"
   ]
  },
  {
   "cell_type": "code",
   "execution_count": null,
   "metadata": {},
   "outputs": [],
   "source": []
  }
 ],
 "metadata": {
  "kernelspec": {
   "display_name": "Python 3.10.9 ('basic_python')",
   "language": "python",
   "name": "python3"
  },
  "language_info": {
   "codemirror_mode": {
    "name": "ipython",
    "version": 3
   },
   "file_extension": ".py",
   "mimetype": "text/x-python",
   "name": "python",
   "nbconvert_exporter": "python",
   "pygments_lexer": "ipython3",
   "version": "3.10.9"
  },
  "orig_nbformat": 4,
  "vscode": {
   "interpreter": {
    "hash": "647c084d20430e00176953302852bedb56ebf3b0ad962badbec07e8fcded4fae"
   }
  }
 },
 "nbformat": 4,
 "nbformat_minor": 2
}
