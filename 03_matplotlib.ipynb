{
 "cells": [
  {
   "cell_type": "markdown",
   "metadata": {},
   "source": [
    "#### Matplotlib"
   ]
  },
  {
   "cell_type": "code",
   "execution_count": null,
   "metadata": {},
   "outputs": [],
   "source": [
    "#!pip install matplotlib\n",
    "import matplotlib"
   ]
  },
  {
   "cell_type": "code",
   "execution_count": null,
   "metadata": {},
   "outputs": [],
   "source": [
    "#ploting 1 dimension\n",
    "import matplotlib.pyplot as plt\n",
    "\n",
    "datas = [1,2,4,9,5,3]\n",
    "plt.plot(datas)\n",
    "plt.show()"
   ]
  },
  {
   "cell_type": "code",
   "execution_count": null,
   "metadata": {},
   "outputs": [],
   "source": [
    "datas_y = [-3,-2,5,0]\n",
    "datas_x = [1,6,4,3]\n",
    "plt.plot(datas_x,datas_y)\n",
    "plt.show()"
   ]
  },
  {
   "cell_type": "code",
   "execution_count": null,
   "metadata": {},
   "outputs": [],
   "source": [
    "import numpy as np\n",
    "\n",
    "x = np.linspace(-5,5,700)\n",
    "plt.plot(x)\n",
    "plt.show()"
   ]
  },
  {
   "cell_type": "code",
   "execution_count": null,
   "metadata": {},
   "outputs": [],
   "source": [
    "import numpy as np\n",
    "\n",
    "x = np.linspace(-5,5,700)\n",
    "y = x**2\n",
    "plt.plot(x,y)\n",
    "plt.show()"
   ]
  },
  {
   "cell_type": "code",
   "execution_count": null,
   "metadata": {},
   "outputs": [],
   "source": [
    "plt.plot(x,y)\n",
    "plt.title(\"Square function\")\n",
    "plt.ylabel(\"Y\")\n",
    "plt.xlabel(\"X\")\n",
    "plt.grid(True)\n",
    "plt.show()"
   ]
  },
  {
   "cell_type": "code",
   "execution_count": null,
   "metadata": {},
   "outputs": [],
   "source": [
    "plt.plot([0, 100, 100, 0, 0, 100, 50, 0, 100], [0, 0, 100, 100, 0, 100, 130, 100, 0])\n",
    "plt.axis([-10, 110, -20, 140]) #min max axis and min max y axis\n",
    "plt.show()"
   ]
  },
  {
   "cell_type": "code",
   "execution_count": null,
   "metadata": {},
   "outputs": [],
   "source": [
    "#import matplotlib.colors\n",
    "plt.plot([0, 100, 100, 0, 0, 100, 50, 0, 100],\n",
    "[0, 0, 100, 100, 0, 100, 130, 100, 0],\"b--\")\n",
    "plt.axis([-10, 110, -20, 140]) #min max axis and min max y axis\n",
    "plt.show()"
   ]
  },
  {
   "cell_type": "code",
   "execution_count": null,
   "metadata": {},
   "outputs": [],
   "source": [
    "datas_x_1 = [0, 100, 100, 0, 0]\n",
    "datas_y_1 = [0, 0, 100, 100, 0]\n",
    "\n",
    "datas_x_2 = [0, 100, 50, 0, 100]\n",
    "datas_y_2 = [0, 100, 130, 100, 0]\n",
    "\n",
    "plt.plot(datas_x_1,datas_y_1,\"r-\",datas_x_2,datas_y_2,\"g--\")\n",
    "plt.axis([-10, 110, -20, 140]) #min max axis and min max y axis\n",
    "plt.show()"
   ]
  },
  {
   "cell_type": "code",
   "execution_count": null,
   "metadata": {},
   "outputs": [],
   "source": [
    "plt.plot(datas_x_1,datas_y_1,\"r-\")\n",
    "plt.plot(datas_x_2,datas_y_2,\"g--\")\n",
    "plt.axis([-10, 110, -20, 140]) #min max axis and min max y axis\n",
    "plt.show()"
   ]
  },
  {
   "cell_type": "code",
   "execution_count": null,
   "metadata": {},
   "outputs": [],
   "source": [
    "x= np.linspace(-1.4,1.4,30)\n",
    "plt.plot(x,x,'g--',x,x**2,'r:',x,x**3,'b^')\n",
    "plt.show()"
   ]
  },
  {
   "cell_type": "code",
   "execution_count": null,
   "metadata": {},
   "outputs": [],
   "source": [
    "x= np.linspace(-1.4,1.4,30)\n",
    "line1 , line2 ,line3 = plt.plot(x,x,'g--',x,x**2,'r:',x,x**3,'b^')\n",
    "line1.set_linewidth(3.0)\n",
    "line1.set_dash_capstyle(\"round\")\n",
    "line3.set_alpha(0.2)\n",
    "plt.title(\"my first plot \")\n",
    "plt.xlabel(\"X axis\")\n",
    "plt.ylabel(\"Y axis\")\n",
    "plt.grid(True)\n",
    "plt.savefig(\"export/my_first_plot.png\")\n",
    "plt.show()\n",
    "\n",
    "#title : my first plot \n",
    "# x axis , y axis title \n",
    "# grid"
   ]
  },
  {
   "cell_type": "markdown",
   "metadata": {},
   "source": [
    "subplot"
   ]
  },
  {
   "cell_type": "code",
   "execution_count": null,
   "metadata": {},
   "outputs": [],
   "source": [
    "x = np.linspace(-1.4,1.4,30)\n",
    "\n",
    "plt.subplot(2,2,1)\n",
    "plt.plot(x,x)\n",
    "\n",
    "plt.subplot(2,2,2)\n",
    "plt.plot(x,x**2)\n",
    "\n",
    "plt.subplot(2,2,3)\n",
    "plt.plot(x,x**3)\n",
    "\n",
    "plt.subplot(2,2,4)\n",
    "plt.plot(x,x**4)\n",
    "plt.show()"
   ]
  },
  {
   "cell_type": "code",
   "execution_count": null,
   "metadata": {},
   "outputs": [],
   "source": [
    "#subplot 3*2 = 6 \n",
    "\n",
    "x = np.linspace(-1.4,1.4,30)\n",
    "\n",
    "plt.subplot(2,3,1)\n",
    "plt.plot(x,x)\n",
    "\n",
    "plt.subplot(2,3,2)\n",
    "plt.plot(x,x**2)\n",
    "\n",
    "plt.subplot(2,3,3)\n",
    "plt.plot(x,x**3)\n",
    "\n",
    "plt.subplot(2,3,4)\n",
    "plt.plot(x,x**4)\n",
    "\n",
    "plt.subplot(2,3,5)\n",
    "plt.plot(x,x**5)\n",
    "\n",
    "plt.subplot(2,3,6) #y ,x , position\n",
    "plt.plot(x,x**6)\n",
    "plt.show()"
   ]
  },
  {
   "cell_type": "code",
   "execution_count": 82,
   "metadata": {},
   "outputs": [
    {
     "data": {
      "image/png": "[encoded data removed]",
      "text/plain": [
       "<Figure size 640x480 with 3 Axes>"
      ]
     },
     "metadata": {},
     "output_type": "display_data"
    }
   ],
   "source": [
    "plt.subplot(2,2,1)\n",
    "plt.plot(x,x)\n",
    "\n",
    "plt.subplot(2,2,2)\n",
    "plt.plot(x,x**2)\n",
    "\n",
    "plt.subplot(2,1,2)\n",
    "plt.plot(x,x**3)\n",
    "plt.show()"
   ]
  }
 ],
 "metadata": {
  "kernelspec": {
   "display_name": "Python 3.10.9 ('basic_python')",
   "language": "python",
   "name": "python3"
  },
  "language_info": {
   "codemirror_mode": {
    "name": "ipython",
    "version": 3
   },
   "file_extension": ".py",
   "mimetype": "text/x-python",
   "name": "python",
   "nbconvert_exporter": "python",
   "pygments_lexer": "ipython3",
   "version": "3.10.9"
  },
  "orig_nbformat": 4,
  "vscode": {
   "interpreter": {
    "hash": "647c084d20430e00176953302852bedb56ebf3b0ad962badbec07e8fcded4fae"
   }
  }
 },
 "nbformat": 4,
 "nbformat_minor": 2
}
