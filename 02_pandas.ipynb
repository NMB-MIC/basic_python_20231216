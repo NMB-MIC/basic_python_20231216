{
 "cells": [
  {
   "cell_type": "markdown",
   "metadata": {},
   "source": [
    "#### Pandas"
   ]
  },
  {
   "cell_type": "code",
   "execution_count": null,
   "metadata": {},
   "outputs": [],
   "source": [
    "#!pip install pandas"
   ]
  },
  {
   "cell_type": "code",
   "execution_count": null,
   "metadata": {},
   "outputs": [],
   "source": [
    "#!conda list"
   ]
  },
  {
   "cell_type": "code",
   "execution_count": null,
   "metadata": {},
   "outputs": [],
   "source": [
    "import pandas as pd"
   ]
  },
  {
   "cell_type": "markdown",
   "metadata": {},
   "source": [
    "Dataframe"
   ]
  },
  {
   "cell_type": "code",
   "execution_count": null,
   "metadata": {},
   "outputs": [],
   "source": [
    "datas = [\n",
    "    [\"Mark\",55,\"Italy\",4.5,\"Europe\"],\n",
    "    [\"john\",33,\"USA\",6.9,\"America\"],\n",
    "     [\"tim\",41,\"USA\",3.9,\"America\"],\n",
    "]\n",
    "columns = [\"name\",\"age\",\"coutry\",\"score\",\"continent\"]\n",
    "\n",
    "df = pd.DataFrame(data=datas,columns=columns)\n",
    "df"
   ]
  },
  {
   "cell_type": "code",
   "execution_count": null,
   "metadata": {},
   "outputs": [],
   "source": [
    "df = pd.read_csv(\"lifesat.csv\")\n",
    "df"
   ]
  },
  {
   "cell_type": "code",
   "execution_count": null,
   "metadata": {},
   "outputs": [],
   "source": [
    "#!pip install openpyxl\n",
    "df = pd.read_excel(\"lifesat.xlsx\") #xls xlsx\n",
    "df"
   ]
  },
  {
   "cell_type": "code",
   "execution_count": null,
   "metadata": {},
   "outputs": [],
   "source": [
    "df = pd.read_csv(\"D:\\\\data_pandas\\\\lifesat.csv\")\n",
    "df"
   ]
  },
  {
   "cell_type": "code",
   "execution_count": null,
   "metadata": {},
   "outputs": [],
   "source": [
    "df = pd.read_csv(\"D:/data_pandas/lifesat.csv\")\n",
    "df"
   ]
  },
  {
   "cell_type": "code",
   "execution_count": null,
   "metadata": {},
   "outputs": [],
   "source": [
    "import os\n",
    "path = os.getcwd()\n",
    "path = path + \"\\\\data\\\\sales_data\"\n",
    "print(path)\n",
    "\n",
    "file_extension = \".xlsx\"\n",
    "xlxs_file_list = []\n",
    "\n",
    "for root,dirs,files in os.walk(path):\n",
    "    for name in files:\n",
    "        if name.endswith(file_extension):\n",
    "            file_path = os.path.join(root,name)  \n",
    "            xlxs_file_list.append(file_path)\n",
    "#print(xlxs_file_list)      "
   ]
  },
  {
   "cell_type": "code",
   "execution_count": null,
   "metadata": {},
   "outputs": [],
   "source": [
    "dfs = []\n",
    "for f in xlxs_file_list:\n",
    "    df = pd.read_excel(f)\n",
    "    dfs.append(df)\n",
    "dfs"
   ]
  },
  {
   "cell_type": "code",
   "execution_count": null,
   "metadata": {},
   "outputs": [],
   "source": [
    "len(dfs)"
   ]
  },
  {
   "cell_type": "code",
   "execution_count": null,
   "metadata": {},
   "outputs": [],
   "source": [
    "dfs[3]"
   ]
  },
  {
   "cell_type": "code",
   "execution_count": null,
   "metadata": {},
   "outputs": [],
   "source": [
    "# API\n",
    "#!pip install requests\n",
    "import requests\n",
    "\n",
    "url = \"https://covid19.ddc.moph.go.th/api/Cases/today-cases-all\"\n",
    "res = requests.get(url, headers={\"User-Agent\": \"Mozilla/5.0\"})\n",
    "data = res.json()\n",
    "print(data)\n",
    "df = pd.DataFrame.from_dict(data)\n",
    "df"
   ]
  },
  {
   "cell_type": "code",
   "execution_count": null,
   "metadata": {},
   "outputs": [],
   "source": [
    "# API\n",
    "#!pip install requests\n",
    "import requests\n",
    "\n",
    "url = \"https://covid19.ddc.moph.go.th/api/Cases/today-cases-by-provinces\"\n",
    "res = requests.get(url, headers={\"User-Agent\": \"Mozilla/5.0\"})\n",
    "data = res.json()\n",
    "#print(data)\n",
    "df = pd.DataFrame.from_dict(data)\n",
    "df\n",
    "    "
   ]
  },
  {
   "cell_type": "code",
   "execution_count": null,
   "metadata": {},
   "outputs": [],
   "source": [
    "# sql server\n",
    "#!pip install pypyodbc\n",
    "import pypyodbc\n",
    "\n",
    "cnxn = pypyodbc.connect(\"Driver= {SQL Server};\"\n",
    "                        \"Server=192.168.1.101\\SQLEXPRESS;\"\n",
    "                        \"Database=test;\"\n",
    "                        \"uid=sa;pwd=sa@admin\")\n",
    "df = pd.read_sql_query(\"SELECT * FROM [test].[dbo].[table1] \",cnxn)\n",
    "#df = pd.read_sql_query(\"SELECT * FROM [test].[dbo].[table1] where test1 =1\",cnxn)\n",
    "df"
   ]
  },
  {
   "cell_type": "code",
   "execution_count": null,
   "metadata": {},
   "outputs": [],
   "source": [
    "datas = [\n",
    "    [\"Mark\",55,\"Italy\",4.5,\"Europe\"],\n",
    "    [\"john\",33,\"USA\",6.9,\"America\"],\n",
    "     [\"tim\",41,\"USA\",3.9,\"America\"],\n",
    "]\n",
    "columns = [\"name\",\"age\",\"coutry\",\"score\",\"continent\"]\n",
    "\n",
    "df = pd.DataFrame(data=datas,columns=columns)\n",
    "df"
   ]
  },
  {
   "cell_type": "markdown",
   "metadata": {},
   "source": [
    "index"
   ]
  },
  {
   "cell_type": "code",
   "execution_count": null,
   "metadata": {},
   "outputs": [],
   "source": [
    "df.index"
   ]
  },
  {
   "cell_type": "code",
   "execution_count": null,
   "metadata": {},
   "outputs": [],
   "source": [
    "df.index.name = \"user_id\"\n",
    "df"
   ]
  },
  {
   "cell_type": "code",
   "execution_count": null,
   "metadata": {},
   "outputs": [],
   "source": [
    "df.reset_index()"
   ]
  },
  {
   "cell_type": "code",
   "execution_count": null,
   "metadata": {},
   "outputs": [],
   "source": [
    "df.set_index(\"name\")"
   ]
  },
  {
   "cell_type": "code",
   "execution_count": null,
   "metadata": {},
   "outputs": [],
   "source": [
    "df.reset_index()"
   ]
  },
  {
   "cell_type": "code",
   "execution_count": null,
   "metadata": {},
   "outputs": [],
   "source": [
    "df.sort_index()"
   ]
  },
  {
   "cell_type": "code",
   "execution_count": null,
   "metadata": {},
   "outputs": [],
   "source": [
    "df.sort_index(ascending=False)"
   ]
  },
  {
   "cell_type": "code",
   "execution_count": null,
   "metadata": {},
   "outputs": [],
   "source": [
    "df.sort_values([\"continent\"])"
   ]
  },
  {
   "cell_type": "code",
   "execution_count": null,
   "metadata": {},
   "outputs": [],
   "source": [
    "df.sort_values([\"continent\",\"age\"])"
   ]
  },
  {
   "cell_type": "code",
   "execution_count": null,
   "metadata": {},
   "outputs": [],
   "source": [
    "df.sort_values([\"continent\",\"age\"],ascending=False)"
   ]
  },
  {
   "cell_type": "markdown",
   "metadata": {},
   "source": [
    "Columns"
   ]
  },
  {
   "cell_type": "code",
   "execution_count": null,
   "metadata": {},
   "outputs": [],
   "source": [
    "datas = [\n",
    "    [\"Mark\",55,\"Italy\",4.5,\"Europe\"],\n",
    "    [\"john\",33,\"USA\",6.9,\"America\"],\n",
    "     [\"tim\",41,\"USA\",3.9,\"America\"],\n",
    "]\n",
    "columns = [\"name\",\"age\",\"coutry\",\"score\",\"continent\"]\n",
    "\n",
    "df = pd.DataFrame(data=datas,columns=columns)\n",
    "df"
   ]
  },
  {
   "cell_type": "code",
   "execution_count": null,
   "metadata": {},
   "outputs": [],
   "source": [
    "df.columns"
   ]
  },
  {
   "cell_type": "code",
   "execution_count": null,
   "metadata": {},
   "outputs": [],
   "source": [
    "df_renames = df.copy()\n",
    "df_renames"
   ]
  },
  {
   "cell_type": "code",
   "execution_count": null,
   "metadata": {},
   "outputs": [],
   "source": [
    "df_renames.rename(columns={\"name\": \"frist name\",\"age\":\"AGE\"},inplace=True)"
   ]
  },
  {
   "cell_type": "code",
   "execution_count": null,
   "metadata": {},
   "outputs": [],
   "source": [
    "df_renames"
   ]
  },
  {
   "cell_type": "code",
   "execution_count": null,
   "metadata": {},
   "outputs": [],
   "source": [
    "df"
   ]
  }
 ],
 "metadata": {
  "kernelspec": {
   "display_name": "Python 3.10.9 ('basic_python')",
   "language": "python",
   "name": "python3"
  },
  "language_info": {
   "codemirror_mode": {
    "name": "ipython",
    "version": 3
   },
   "file_extension": ".py",
   "mimetype": "text/x-python",
   "name": "python",
   "nbconvert_exporter": "python",
   "pygments_lexer": "ipython3",
   "version": "3.10.9"
  },
  "orig_nbformat": 4,
  "vscode": {
   "interpreter": {
    "hash": "647c084d20430e00176953302852bedb56ebf3b0ad962badbec07e8fcded4fae"
   }
  }
 },
 "nbformat": 4,
 "nbformat_minor": 2
}
